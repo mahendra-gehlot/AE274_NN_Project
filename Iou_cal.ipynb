{
  "nbformat": 4,
  "nbformat_minor": 0,
  "metadata": {
    "colab": {
      "name": "Iou_cal.ipynb",
      "provenance": [],
      "collapsed_sections": [],
      "authorship_tag": "ABX9TyPr4Ip6jsnJXA/Qlg1dQias",
      "include_colab_link": true
    },
    "kernelspec": {
      "name": "python3",
      "display_name": "Python 3"
    },
    "language_info": {
      "name": "python"
    }
  },
  "cells": [
    {
      "cell_type": "markdown",
      "metadata": {
        "id": "view-in-github",
        "colab_type": "text"
      },
      "source": [
        "<a href=\"https://colab.research.google.com/github/mahendra-gehlot/AE274_NN_Project/blob/main/Iou_cal.ipynb\" target=\"_parent\"><img src=\"https://colab.research.google.com/assets/colab-badge.svg\" alt=\"Open In Colab\"/></a>"
      ]
    },
    {
      "cell_type": "code",
      "execution_count": 1,
      "metadata": {
        "colab": {
          "base_uri": "https://localhost:8080/"
        },
        "id": "xGt7w0hEcth5",
        "outputId": "7795efbb-30f8-4f3c-f879-1b4514c5dcc0"
      },
      "outputs": [
        {
          "output_type": "stream",
          "name": "stdout",
          "text": [
            "Mounted at /content/gdrive\n"
          ]
        }
      ],
      "source": [
        "from google.colab import drive\n",
        "drive.mount('/content/gdrive')"
      ]
    },
    {
      "cell_type": "code",
      "source": [
        "cd /content/gdrive/MyDrive/NN_Project/"
      ],
      "metadata": {
        "colab": {
          "base_uri": "https://localhost:8080/"
        },
        "id": "fj0OeBEHg5pk",
        "outputId": "079dc849-da43-46c6-e404-be92c00f1e40"
      },
      "execution_count": 5,
      "outputs": [
        {
          "output_type": "stream",
          "name": "stdout",
          "text": [
            "/content/gdrive/MyDrive/NN_Project\n"
          ]
        }
      ]
    },
    {
      "cell_type": "code",
      "source": [
        "!python AttentionPipeline/_side_projects/iou_calculations/voc_eval_test.py"
      ],
      "metadata": {
        "colab": {
          "base_uri": "https://localhost:8080/"
        },
        "id": "hgDOTuVCo6pp",
        "outputId": "9a59900e-ec6b-4c0d-bfb2-e4bb3779667b"
      },
      "execution_count": 28,
      "outputs": [
        {
          "output_type": "stream",
          "name": "stdout",
          "text": [
            "Reading annotation for 1/155\n",
            "Reading annotation for 2/155\n",
            "Reading annotation for 3/155\n",
            "Reading annotation for 4/155\n",
            "Reading annotation for 5/155\n",
            "Reading annotation for 6/155\n",
            "Reading annotation for 7/155\n",
            "Reading annotation for 8/155\n",
            "Reading annotation for 9/155\n",
            "Reading annotation for 10/155\n",
            "Reading annotation for 11/155\n",
            "Reading annotation for 12/155\n",
            "Reading annotation for 13/155\n",
            "Reading annotation for 14/155\n",
            "Reading annotation for 15/155\n",
            "Reading annotation for 16/155\n",
            "Reading annotation for 17/155\n",
            "Reading annotation for 18/155\n",
            "Reading annotation for 19/155\n",
            "Reading annotation for 20/155\n",
            "Reading annotation for 21/155\n",
            "Reading annotation for 22/155\n",
            "Reading annotation for 23/155\n",
            "Reading annotation for 24/155\n",
            "Reading annotation for 25/155\n",
            "Reading annotation for 26/155\n",
            "Reading annotation for 27/155\n",
            "Reading annotation for 28/155\n",
            "Reading annotation for 29/155\n",
            "Reading annotation for 30/155\n",
            "Reading annotation for 31/155\n",
            "Reading annotation for 32/155\n",
            "Reading annotation for 33/155\n",
            "Reading annotation for 34/155\n",
            "Reading annotation for 35/155\n",
            "Reading annotation for 36/155\n",
            "Reading annotation for 37/155\n",
            "Reading annotation for 38/155\n",
            "Reading annotation for 39/155\n",
            "Reading annotation for 40/155\n",
            "Reading annotation for 41/155\n",
            "Reading annotation for 42/155\n",
            "Reading annotation for 43/155\n",
            "Reading annotation for 44/155\n",
            "Reading annotation for 45/155\n",
            "Reading annotation for 46/155\n",
            "Reading annotation for 47/155\n",
            "Reading annotation for 48/155\n",
            "Reading annotation for 49/155\n",
            "Reading annotation for 50/155\n",
            "Reading annotation for 51/155\n",
            "Reading annotation for 52/155\n",
            "Reading annotation for 53/155\n",
            "Reading annotation for 54/155\n",
            "Reading annotation for 55/155\n",
            "Reading annotation for 56/155\n",
            "Reading annotation for 57/155\n",
            "Reading annotation for 58/155\n",
            "Reading annotation for 59/155\n",
            "Reading annotation for 60/155\n",
            "Reading annotation for 61/155\n",
            "Reading annotation for 62/155\n",
            "Reading annotation for 63/155\n",
            "Reading annotation for 64/155\n",
            "Reading annotation for 65/155\n",
            "Reading annotation for 66/155\n",
            "Reading annotation for 67/155\n",
            "Reading annotation for 68/155\n",
            "Reading annotation for 69/155\n",
            "Reading annotation for 70/155\n",
            "Reading annotation for 71/155\n",
            "Reading annotation for 72/155\n",
            "Reading annotation for 73/155\n",
            "Reading annotation for 74/155\n",
            "Reading annotation for 75/155\n",
            "Reading annotation for 76/155\n",
            "Reading annotation for 77/155\n",
            "Reading annotation for 78/155\n",
            "Reading annotation for 79/155\n",
            "Reading annotation for 80/155\n",
            "Reading annotation for 81/155\n",
            "Reading annotation for 82/155\n",
            "Reading annotation for 83/155\n",
            "Reading annotation for 84/155\n",
            "Reading annotation for 85/155\n",
            "Reading annotation for 86/155\n",
            "Reading annotation for 87/155\n",
            "Reading annotation for 88/155\n",
            "Reading annotation for 89/155\n",
            "Reading annotation for 90/155\n",
            "Reading annotation for 91/155\n",
            "Reading annotation for 92/155\n",
            "Reading annotation for 93/155\n",
            "Reading annotation for 94/155\n",
            "Reading annotation for 95/155\n",
            "Reading annotation for 96/155\n",
            "Reading annotation for 97/155\n",
            "Reading annotation for 98/155\n",
            "Reading annotation for 99/155\n",
            "Reading annotation for 100/155\n",
            "Reading annotation for 101/155\n",
            "Reading annotation for 102/155\n",
            "Reading annotation for 103/155\n",
            "Reading annotation for 104/155\n",
            "Reading annotation for 105/155\n",
            "Reading annotation for 106/155\n",
            "Reading annotation for 107/155\n",
            "Reading annotation for 108/155\n",
            "Reading annotation for 109/155\n",
            "Reading annotation for 110/155\n",
            "Reading annotation for 111/155\n",
            "Reading annotation for 112/155\n",
            "Reading annotation for 113/155\n",
            "Reading annotation for 114/155\n",
            "Reading annotation for 115/155\n",
            "Reading annotation for 116/155\n",
            "Reading annotation for 117/155\n",
            "Reading annotation for 118/155\n",
            "Reading annotation for 119/155\n",
            "Reading annotation for 120/155\n",
            "Reading annotation for 121/155\n",
            "Reading annotation for 122/155\n",
            "Reading annotation for 123/155\n",
            "Reading annotation for 124/155\n",
            "Reading annotation for 125/155\n",
            "Reading annotation for 126/155\n",
            "Reading annotation for 127/155\n",
            "Reading annotation for 128/155\n",
            "Reading annotation for 129/155\n",
            "Reading annotation for 130/155\n",
            "Reading annotation for 131/155\n",
            "Reading annotation for 132/155\n",
            "Reading annotation for 133/155\n",
            "Reading annotation for 134/155\n",
            "Reading annotation for 135/155\n",
            "Reading annotation for 136/155\n",
            "Reading annotation for 137/155\n",
            "Reading annotation for 138/155\n",
            "Reading annotation for 139/155\n",
            "Reading annotation for 140/155\n",
            "Reading annotation for 141/155\n",
            "Reading annotation for 142/155\n",
            "Reading annotation for 143/155\n",
            "Reading annotation for 144/155\n",
            "Reading annotation for 145/155\n",
            "Reading annotation for 146/155\n",
            "Reading annotation for 147/155\n",
            "Reading annotation for 148/155\n",
            "Reading annotation for 149/155\n",
            "Reading annotation for 150/155\n",
            "Reading annotation for 151/155\n",
            "Reading annotation for 152/155\n",
            "Reading annotation for 153/155\n",
            "Reading annotation for 154/155\n",
            "Reading annotation for 155/155\n",
            "AttentionPipeline/_side_projects/iou_calculations/voc_eval_test.py:127: DeprecationWarning: `np.bool` is a deprecated alias for the builtin `bool`. To silence this warning, use `bool` by itself. Doing this will not modify any behavior and is safe. If you specifically wanted the numpy scalar type, use `np.bool_` here.\n",
            "Deprecated in NumPy 1.20; for more details and guidance: https://numpy.org/devdocs/release/1.20.0-notes.html#deprecations\n",
            "  difficult = np.array([False for x in R]).astype(np.bool)\n",
            "rec [0.         0.00030722 0.00030722 ... 0.25437788 0.25437788 0.25437788]\n",
            "prec [0.         0.5        0.33333333 ... 0.24969843 0.24962315 0.24954792]\n",
            "ap 0.11075088901902762\n"
          ]
        }
      ]
    }
  ]
}